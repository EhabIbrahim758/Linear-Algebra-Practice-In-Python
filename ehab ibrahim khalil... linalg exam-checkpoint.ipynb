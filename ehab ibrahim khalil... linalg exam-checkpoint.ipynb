{
 "cells": [
  {
   "cell_type": "markdown",
   "metadata": {},
   "source": [
    "# Question.1"
   ]
  },
  {
   "cell_type": "code",
   "execution_count": 16,
   "metadata": {},
   "outputs": [
    {
     "data": {
      "text/plain": [
       "1"
      ]
     },
     "execution_count": 16,
     "metadata": {},
     "output_type": "execute_result"
    }
   ],
   "source": [
    "import numpy as np\n",
    "A = np.array([[2,2],[3,4]])\n",
    "def isSquare(A) :\n",
    "    if A.shape[0] == A.shape[1] :\n",
    "        return 1\n",
    "    else :\n",
    "        return 0\n",
    "#check the function\n",
    "isSquare(A)    "
   ]
  },
  {
   "cell_type": "markdown",
   "metadata": {},
   "source": [
    "# Question.2"
   ]
  },
  {
   "cell_type": "code",
   "execution_count": 28,
   "metadata": {},
   "outputs": [
    {
     "name": "stdout",
     "output_type": "stream",
     "text": [
      "1\n",
      "matrix rank =  3\n",
      "matrix determinant =  -5.35\n"
     ]
    },
    {
     "data": {
      "text/plain": [
       "1"
      ]
     },
     "execution_count": 28,
     "metadata": {},
     "output_type": "execute_result"
    }
   ],
   "source": [
    "def Props(A) :\n",
    "    x = isSquare(A)\n",
    "    print(x)\n",
    "    rank = np.linalg.matrix_rank(A)\n",
    "    print('matrix rank = ' , rank)\n",
    "    if x == 1:\n",
    "        det = np.linalg.det(A)\n",
    "        print('matrix determinant = ' , det)\n",
    "    else :\n",
    "        'the matrix has no determinant'\n",
    "    if rank == A.shape[0] :\n",
    "        return 1\n",
    "    else :\n",
    "        return 0\n",
    "    \n",
    "Props(A)"
   ]
  },
  {
   "cell_type": "markdown",
   "metadata": {},
   "source": [
    "# Question.3"
   ]
  },
  {
   "cell_type": "code",
   "execution_count": 59,
   "metadata": {},
   "outputs": [
    {
     "name": "stdout",
     "output_type": "stream",
     "text": [
      "1\n",
      "matrix rank =  3\n",
      "matrix determinant =  -5.35\n",
      "1\n",
      "_____________________________\n",
      "0\n",
      "matrix rank =  1\n",
      "0\n"
     ]
    }
   ],
   "source": [
    "# A * X = B\n",
    "A = np.array([[1,1,1],[1.5,5.75,2.6],[0,1,-1]], np.float64)\n",
    "B = np.array([[200], [589.5], [-20]] , np.float64 )\n",
    "#B = B.reshape(1,3)\n",
    "\n",
    "print( Props(A))\n",
    "print('_____________________________')\n",
    "print(Props(B))\n",
    "\n",
    "\n"
   ]
  },
  {
   "cell_type": "code",
   "execution_count": 65,
   "metadata": {},
   "outputs": [
    {
     "name": "stdout",
     "output_type": "stream",
     "text": [
      "1\n",
      "matrix rank =  2\n",
      "matrix determinant =  0.0\n",
      "0\n",
      "_____________________________\n",
      "0\n",
      "matrix rank =  0\n",
      "0\n"
     ]
    }
   ],
   "source": [
    "# \n",
    "A1 = np.array([[2,1,3],[4,2,6],[1,1,-1]], np.float64)\n",
    "B1= np.array([[0], [0], [0]] , np.float64 )\n",
    "\n",
    "print( Props(A1))\n",
    "print('_____________________________')\n",
    "print(Props(B1))\n"
   ]
  },
  {
   "cell_type": "code",
   "execution_count": null,
   "metadata": {},
   "outputs": [],
   "source": []
  },
  {
   "cell_type": "markdown",
   "metadata": {},
   "source": [
    "# Question.4"
   ]
  },
  {
   "cell_type": "code",
   "execution_count": 61,
   "metadata": {},
   "outputs": [],
   "source": [
    "def reducerow(C, pivotrow, targetrow, pivot) :\n",
    "    if C[pivotrow, pivot] != 1 :\n",
    "        C[pivotrow, : ] = C[pivotrow , : ] / C[pivotrow, pivot] \n",
    "        \n",
    "    C[targetrow  , : ] = C[targetrow  , : ] - C[targetrow ,pivot] * C[pivotrow, : ] \n",
    "    return C\n",
    "            "
   ]
  },
  {
   "cell_type": "code",
   "execution_count": null,
   "metadata": {},
   "outputs": [],
   "source": []
  },
  {
   "cell_type": "markdown",
   "metadata": {},
   "source": [
    "# Question.5"
   ]
  },
  {
   "cell_type": "code",
   "execution_count": 63,
   "metadata": {},
   "outputs": [],
   "source": [
    "def SolveLinearSystem(mat_1, mat_2) :\n",
    "    x = np.hstack([mat_1, mat_2])\n",
    "    for i in range(3) :\n",
    "        for j in range(3) :\n",
    "            if j  != i :\n",
    "                x = reducerow(x,i,j,i)\n",
    "    return  x       \n"
   ]
  },
  {
   "cell_type": "markdown",
   "metadata": {},
   "source": [
    "# Question 6"
   ]
  },
  {
   "cell_type": "code",
   "execution_count": 64,
   "metadata": {},
   "outputs": [
    {
     "data": {
      "text/plain": [
       "array([[ 1.,  0.,  0., 80.],\n",
       "       [ 0.,  1.,  0., 50.],\n",
       "       [-0., -0.,  1., 70.]])"
      ]
     },
     "execution_count": 64,
     "metadata": {},
     "output_type": "execute_result"
    }
   ],
   "source": [
    "SolveLinearSystem(A,B)    "
   ]
  },
  {
   "cell_type": "code",
   "execution_count": 66,
   "metadata": {},
   "outputs": [
    {
     "name": "stderr",
     "output_type": "stream",
     "text": [
      "C:\\Users\\dell\\anaconda3\\lib\\site-packages\\ipykernel_launcher.py:3: RuntimeWarning: invalid value encountered in true_divide\n",
      "  This is separate from the ipykernel package so we can avoid doing imports until\n"
     ]
    },
    {
     "data": {
      "text/plain": [
       "array([[nan, nan, nan, nan],\n",
       "       [nan, nan, nan, nan],\n",
       "       [nan, nan, nan, nan]])"
      ]
     },
     "execution_count": 66,
     "metadata": {},
     "output_type": "execute_result"
    }
   ],
   "source": [
    "SolveLinearSystem(A1,B1)    "
   ]
  },
  {
   "cell_type": "code",
   "execution_count": null,
   "metadata": {},
   "outputs": [],
   "source": []
  },
  {
   "cell_type": "code",
   "execution_count": null,
   "metadata": {},
   "outputs": [],
   "source": []
  }
 ],
 "metadata": {
  "kernelspec": {
   "display_name": "Python 3",
   "language": "python",
   "name": "python3"
  },
  "language_info": {
   "codemirror_mode": {
    "name": "ipython",
    "version": 3
   },
   "file_extension": ".py",
   "mimetype": "text/x-python",
   "name": "python",
   "nbconvert_exporter": "python",
   "pygments_lexer": "ipython3",
   "version": "3.7.6"
  }
 },
 "nbformat": 4,
 "nbformat_minor": 4
}
